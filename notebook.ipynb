{
 "cells": [
  {
   "cell_type": "markdown",
   "metadata": {},
   "source": [
    "Prompt Chaining + Iterative Generation \n",
    "- break large problems into smaller, interconnected prompts \n",
    "- the output becomes the input for the next chain "
   ]
  },
  {
   "cell_type": "code",
   "execution_count": 15,
   "metadata": {},
   "outputs": [],
   "source": [
    "from dotenv import load_dotenv\n",
    "import google.generativeai as genai\n",
    "import os\n",
    "from google.api_core import retry\n",
    "from pprint import pprint"
   ]
  },
  {
   "cell_type": "code",
   "execution_count": 3,
   "metadata": {},
   "outputs": [],
   "source": [
    "load_dotenv()\n",
    "google_api_key = os.getenv(\"GOOGLE_API_KEY\")"
   ]
  },
  {
   "cell_type": "code",
   "execution_count": 4,
   "metadata": {},
   "outputs": [],
   "source": [
    "genai.configure(api_key=google_api_key)"
   ]
  },
  {
   "cell_type": "code",
   "execution_count": 6,
   "metadata": {},
   "outputs": [],
   "source": [
    "from utils import SAFETY_SETTINGS, MODEL"
   ]
  },
  {
   "cell_type": "code",
   "execution_count": 7,
   "metadata": {},
   "outputs": [],
   "source": [
    "model = genai.GenerativeModel(MODEL)\n",
    "chat = model.start_chat() "
   ]
  },
  {
   "cell_type": "code",
   "execution_count": 9,
   "metadata": {},
   "outputs": [
    {
     "data": {
      "text/plain": [
       "response:\n",
       "GenerateContentResponse(\n",
       "    done=True,\n",
       "    iterator=None,\n",
       "    result=glm.GenerateContentResponse({'candidates': [{'content': {'parts': [{'text': '## AI Agents vs. Multi-Chaining: Key Differences\\n\\n* **Function:**\\n    * **AI Agents:** Perform actions and make decisions within an environment to achieve goals.\\n    * **Multi-Chaining:** Processes information and generates text through a sequence of interconnected prompts. \\n* **Scope:**\\n    * **AI Agents:** Independent entities capable of autonomous operation.\\n    * **Multi-Chaining:** A technique used within large language models (LLMs) for prompt engineering.\\n* **Purpose:**\\n    * **AI Agents:** Achieve specific objectives, such as navigating a car, providing customer service, or managing finances. \\n    * **Multi-Chaining:** Improve the accuracy and efficiency of LLMs in handling complex tasks and generating different creative text formats. \\n* **Complexity:**\\n    * **AI Agents:** Can exhibit complex behaviors, learning and adapting to their environment.\\n    * **Multi-Chaining:** Follows a structured sequence of steps, with each prompt building upon the previous one.\\n* **Examples:** \\n    * **AI Agents:** Chatbots, self-driving cars, recommendation systems, trading bots.\\n    * **Multi-Chaining:** Summarizing long articles, writing poems or scripts, translating languages with specific styles.\\n\\n**In short, AI agents are active doers, while multi-chaining is a method for guiding LLMs to think step-by-step.** \\n'}], 'role': 'model'}, 'finish_reason': 1, 'index': 0, 'safety_ratings': [{'category': 9, 'probability': 1, 'blocked': False}, {'category': 8, 'probability': 1, 'blocked': False}, {'category': 7, 'probability': 1, 'blocked': False}, {'category': 10, 'probability': 1, 'blocked': False}], 'token_count': 0, 'grounding_attributions': []}]}),\n",
       ")"
      ]
     },
     "execution_count": 9,
     "metadata": {},
     "output_type": "execute_result"
    }
   ],
   "source": [
    "chat.send_message(\"Tell me the difference between AI agents and multi chaining. Format it nicely in a bullet point list\")"
   ]
  },
  {
   "cell_type": "markdown",
   "metadata": {},
   "source": [
    "# AI Agents vs. Multi-Chaining: Key Differences\n",
    "\n",
    "## Function\n",
    "- **AI Agents:** Perform actions and make decisions within an environment to achieve goals.\n",
    "- **Multi-Chaining:** Processes information and generates text through a sequence of interconnected prompts.\n",
    "\n",
    "## Scope\n",
    "- **AI Agents:** Independent entities capable of autonomous operation.\n",
    "- **Multi-Chaining:** A technique used within large language models (LLMs) for prompt engineering.\n",
    "\n",
    "## Purpose\n",
    "- **AI Agents:** Achieve specific objectives, such as navigating a car, providing customer service, or managing finances.\n",
    "- **Multi-Chaining:** Improve the accuracy and efficiency of LLMs in handling complex tasks and generating different creative text formats.\n",
    "\n",
    "## Complexity\n",
    "- **AI Agents:** Can exhibit complex behaviors, learning and adapting to their environment.\n",
    "- **Multi-Chaining:** Follows a structured sequence of steps, with each prompt building upon the previous one.\n",
    "\n",
    "## Examples\n",
    "- **AI Agents:** Chatbots, self-driving cars, recommendation systems, trading bots.\n",
    "- **Multi-Chaining:** Summarizing long articles, writing poems or scripts, translating languages with specific styles.\n",
    "\n",
    "In short, AI agents are active doers, while multi-chaining is a method for guiding LLMs to think step-by-step.\n"
   ]
  },
  {
   "cell_type": "code",
   "execution_count": 19,
   "metadata": {},
   "outputs": [],
   "source": [
    "def generate_with_retry(prompt):\n",
    "  return model.generate_content(prompt, request_options={'retry':retry.Retry()})"
   ]
  },
  {
   "cell_type": "code",
   "execution_count": 17,
   "metadata": {},
   "outputs": [],
   "source": [
    "persona = '''\\\n",
    "You are a leading AI researcher with extensive experience in designing and developing intelligent agents. \n",
    "Your goal is to write a comprehensive and insightful article on the current state and future potential of AI agents.'''"
   ]
  },
  {
   "cell_type": "code",
   "execution_count": 26,
   "metadata": {},
   "outputs": [
    {
     "name": "stdout",
     "output_type": "stream",
     "text": [
      "## The Rise of Intelligent Agents: Navigating the Present and Charting the Future\n",
      "\n",
      "The field of Artificial Intelligence (AI) has witnessed an explosive growth in recent years, with intelligent agents emerging as a pivotal area of focus. These autonomous entities, capable of perceiving their environment, learning from experience, and taking actions to achieve goals, hold immense promise for revolutionizing numerous aspects of our lives. This article delves into the current state of AI agents, explores their potential applications, and contemplates the challenges and opportunities that lie ahead.\n",
      "\n",
      "### The State of the Art: A Diverse Landscape of Intelligent Agents\n",
      "\n",
      "Currently, AI agents exhibit a wide spectrum of capabilities depending on their design and purpose. We see them powering various applications, including:\n",
      "\n",
      "* **Virtual Assistants:** From scheduling appointments to controlling smart home devices, AI assistants like Siri and Google Assistant leverage natural language processing and machine learning to provide personalized and efficient support.\n",
      "* **Recommendation Systems:** Platforms like Netflix and Amazon utilize intelligent agents to analyze user preferences and recommend products or content tailored to individual tastes, enhancing user experience and driving sales.\n",
      "* **Gaming and Robotics:** AI agents play a crucial role in creating challenging and engaging gaming experiences. They also power advanced robots capable of performing complex tasks in diverse environments, from manufacturing to healthcare. \n",
      "* **Autonomous Vehicles:** Self-driving cars represent a pinnacle of intelligent agent technology, utilizing a complex array of sensors and algorithms to navigate roads safely and efficiently.\n",
      "\n",
      "These examples highlight the versatility of AI agents, but they represent only a glimpse of their potential. As research progresses, we can expect even more sophisticated agents capable of handling complex tasks and exhibiting greater autonomy.\n",
      "\n",
      "### Future Potential: A World Augmented by Intelligent Agents\n",
      "\n",
      "The future of AI agents is brimming with exciting possibilities. Some potential applications include:\n",
      "\n",
      "* **Personalized Education:** AI tutors could adapt to individual learning styles and provide customized instruction, revolutionizing education and making it more accessible and effective.\n",
      "* **Advanced Healthcare:** Intelligent agents could assist in diagnosis, treatment planning, and even robotic surgery, leading to more accurate diagnoses and personalized care.\n",
      "* **Smart Cities:** AI could optimize traffic flow, manage energy consumption, and improve public safety, creating more efficient and sustainable urban environments.\n",
      "* **Scientific Discovery:** Intelligent agents could analyze vast datasets and run complex simulations, accelerating scientific discovery and innovation across various fields.\n",
      "\n",
      "### Challenges and Opportunities: Navigating the Path Forward\n",
      "\n",
      "While the potential of AI agents is vast, several challenges must be addressed:\n",
      "\n",
      "* **Ethical Considerations:** Ensuring fairness, transparency, and accountability in AI agent decision-making is crucial to prevent bias and discrimination.\n",
      "* **Safety and Security:** Robust safeguards need to be implemented to prevent malicious use of AI agents and ensure their safe operation.\n",
      "* **Explainability and Trust:** Developing methods to understand and interpret the reasoning behind AI agent actions is crucial for building trust and user acceptance.\n",
      "\n",
      "These challenges also present opportunities for further research and development. As we overcome these hurdles, AI agents are poised to become an integral part of our lives, augmenting human capabilities and transforming various sectors of society. \n",
      "\n",
      "### Conclusion: A Collaborative Future\n",
      "\n",
      "The journey of AI agents is just beginning. As researchers and developers, we have the responsibility to ensure that these powerful tools are used ethically and responsibly for the benefit of humanity. By embracing collaboration and open dialogue, we can navigate the challenges and unlock the immense potential of AI agents, paving the way for a future where humans and intelligent machines work together to create a better world. \n",
      "\n"
     ]
    }
   ],
   "source": [
    "article_text = generate_with_retry(persona).text\n",
    "print(article_text)"
   ]
  },
  {
   "cell_type": "code",
   "execution_count": 20,
   "metadata": {},
   "outputs": [],
   "source": [
    "premise_prompt = f'''\\\n",
    "{persona}\n",
    "\n",
    "Identify a key area within the field of AI agents to explore in this article. This could be a specific application, \n",
    "a technical challenge, or a societal impact of AI agents.'''"
   ]
  },
  {
   "cell_type": "code",
   "execution_count": 21,
   "metadata": {},
   "outputs": [],
   "source": [
    "outline_prompt = f'''\\\n",
    "{persona}\n",
    "\n",
    "The article will focus on:\n",
    "\n",
    "{{premise}}\n",
    "\n",
    "Develop a structured outline for the article, including key sections and subtopics to address.'''"
   ]
  },
  {
   "cell_type": "code",
   "execution_count": 22,
   "metadata": {},
   "outputs": [],
   "source": [
    "continuation_prompt = f'''\\\n",
    "{persona}\n",
    "\n",
    "This article explores:\n",
    "\n",
    "{{premise}}\n",
    "\n",
    "Following this outline:\n",
    "\n",
    "{{outline}}\n",
    "\n",
    "Here's the content written so far:\n",
    "\n",
    "{{article_text}}\n",
    "\n",
    "=====\n",
    "\n",
    "Review the outline and the existing content. Determine the next section or subtopic to address. \n",
    "\n",
    "Expand on the article by writing the next section in detail. Aim for at least 500 words, providing in-depth analysis, \n",
    "examples, and evidence to support your points. Write ENDOFSECTION when the section is complete.\n",
    "\n",
    "Remember, the article should be comprehensive, insightful, and engaging for readers interested in AI agents.'''"
   ]
  },
  {
   "cell_type": "code",
   "execution_count": 23,
   "metadata": {},
   "outputs": [
    {
     "name": "stdout",
     "output_type": "stream",
     "text": [
      "## Exploring the Societal Impact of AI Agents: A Focus on the Future of Work\n",
      "\n",
      "The field of AI agents is rapidly evolving, with advancements in machine learning and other related technologies leading to increasingly sophisticated and capable agents. As these agents become more integrated into our lives, it's crucial to examine their potential societal impact, particularly on the future of work. This article will delve into this critical area, exploring both the challenges and opportunities presented by the rise of AI agents in the workforce.\n",
      "\n",
      "**Impact on Job Automation:**\n",
      "\n",
      "*   **Job displacement:** One of the primary concerns surrounding AI agents is their potential to automate tasks currently performed by humans, leading to job displacement across various industries. This displacement could disproportionately affect certain sectors, such as manufacturing, transportation, and customer service. \n",
      "*   **Job creation:** Conversely, the development and implementation of AI agents also creates new job opportunities in areas like AI development, data science, and robot maintenance. Additionally, by automating routine tasks, AI agents can free up human workers to focus on more creative and strategic aspects of their jobs.\n",
      "\n",
      "**Transformation of the Workplace:**\n",
      "\n",
      "*   **Human-AI collaboration:** The future workplace is likely to involve close collaboration between humans and AI agents.  AI agents can assist with data analysis, decision-making, and complex problem-solving, while humans bring their unique skills in creativity, empathy, and social intelligence.\n",
      "*   **Changes in skill requirements:** As AI takes over certain tasks, the skills required for many jobs will evolve. Workers will need to adapt by acquiring new skills in areas like digital literacy, data analysis, and critical thinking, as well as social and emotional intelligence to effectively collaborate with AI agents. \n",
      "\n",
      "**Ethical Considerations:**\n",
      "\n",
      "*   **Bias and fairness:** AI agents are trained on vast amounts of data, which can reflect and perpetuate existing societal biases. It's essential to develop methods for mitigating bias in AI systems to ensure fair and equitable outcomes for all individuals.\n",
      "*   **Transparency and accountability:** As AI agents become more involved in decision-making processes, ensuring transparency in their operation and establishing accountability mechanisms will be crucial to maintain trust and prevent potential misuse. \n",
      "\n",
      "**Policy and Education:** \n",
      "\n",
      "*   **Government policies:** Governments and regulatory bodies will need to develop policies that address the challenges and opportunities associated with AI in the workforce, including job displacement, retraining programs, and ethical considerations. \n",
      "*   **Educational systems:** Educational systems will need to adapt to prepare future generations for a workforce where AI agents are prevalent. This includes incorporating AI literacy and related technical skills into curriculums, as well as fostering adaptability and lifelong learning.\n",
      "\n",
      "In conclusion, the increasing presence of AI agents in the workforce presents both challenges and opportunities.  By carefully considering the potential societal impact and proactively addressing key issues related to job displacement, skills development, ethical considerations, and policy, we can ensure that AI agents contribute to a future of work that is beneficial for all. \n",
      "\n"
     ]
    }
   ],
   "source": [
    "# now I will generate the premise \n",
    "premise = generate_with_retry(premise_prompt).text\n",
    "print(premise) "
   ]
  },
  {
   "cell_type": "code",
   "execution_count": 24,
   "metadata": {},
   "outputs": [
    {
     "name": "stdout",
     "output_type": "stream",
     "text": [
      "## Article Outline: Exploring the Societal Impact of AI Agents: A Focus on the Future of Work\n",
      "\n",
      "**I. Introduction**\n",
      "\n",
      "*   The Rise of AI Agents: Briefly introduce the advancements in AI and the increasing sophistication of AI agents.\n",
      "*   Focus on the Future of Work: Highlight the significance of examining the impact of AI agents on the workforce and its implications for society.\n",
      "*   Article Overview: Briefly outline the key topics and structure of the article.\n",
      "\n",
      "**II. Impact on Job Automation**\n",
      "\n",
      "*   Job displacement: \n",
      "    *   Discuss the potential for AI agents to automate tasks and displace human workers across various industries.\n",
      "    *   Provide examples of sectors particularly vulnerable to automation (e.g., manufacturing, transportation, customer service).\n",
      "*   Job creation:\n",
      "    *   Explore the creation of new job opportunities related to AI development, data science, and robot maintenance.\n",
      "    *   Discuss how automation of routine tasks can enable humans to focus on higher-level, creative work. \n",
      "\n",
      "**III. Transformation of the Workplace**\n",
      "\n",
      "*   Human-AI Collaboration:\n",
      "    *   Examine the emerging paradigm of collaboration between humans and AI agents.\n",
      "    *   Discuss how AI can augment human capabilities in data analysis, decision-making, and problem-solving.\n",
      "    *   Highlight the importance of human skills such as creativity, empathy, and social intelligence. \n",
      "*   Changes in Skill Requirements:\n",
      "    *   Analyze the evolving skillset required for the workforce in the age of AI.\n",
      "    *   Emphasize the importance of digital literacy, data analysis, critical thinking, and social-emotional intelligence.\n",
      "    *   Discuss the need for continuous learning and adaptation to keep pace with technological advancements.\n",
      "\n",
      "**IV. Ethical Considerations**\n",
      "\n",
      "*   Bias and Fairness:\n",
      "    *   Address the issue of bias in AI systems and its potential for perpetuating societal inequalities.\n",
      "    *   Discuss strategies for mitigating bias and ensuring fairness in AI-driven decisions. \n",
      "*   Transparency and Accountability:\n",
      "    *   Highlight the need for transparency in AI agent operations and decision-making processes.\n",
      "    *   Explore mechanisms for establishing accountability and preventing misuse of AI agents.\n",
      "\n",
      "**V. Policy and Education**\n",
      "\n",
      "*   Government Policies:\n",
      "    *   Discuss the role of government in addressing the challenges and opportunities of AI in the workforce.\n",
      "    *   Explore policy options such as job retraining programs, income support, and regulations for ethical AI development.\n",
      "*   Educational Systems:\n",
      "    *   Analyze the need for educational systems to adapt and prepare future generations for an AI-driven workforce.\n",
      "    *   Discuss the importance of incorporating AI literacy, technical skills, and adaptability into educational curriculums.\n",
      "\n",
      "**VI. Conclusion**\n",
      "\n",
      "*   Recap the key challenges and opportunities presented by AI agents in the workforce.\n",
      "*   Reiterate the importance of proactive measures to ensure a future of work that is beneficial for all. \n",
      "*   Call to action for stakeholders (governments, businesses, educational institutions) to collaborate and shape a responsible and inclusive AI-driven future. \n",
      "\n"
     ]
    }
   ],
   "source": [
    "# now I will generate the outline \n",
    "outline = generate_with_retry(outline_prompt.format(premise=premise)).text \n",
    "print(outline)"
   ]
  },
  {
   "cell_type": "code",
   "execution_count": 28,
   "metadata": {},
   "outputs": [],
   "source": [
    "# initialise next_section as an empty string \n",
    "next_section = \"\""
   ]
  },
  {
   "cell_type": "code",
   "execution_count": 29,
   "metadata": {},
   "outputs": [],
   "source": [
    "while \"ENDOFSECTION\" in next_section:\n",
    "    next_section = generate_with_retry(continuation_prompt.format(premise=premise, outline=outline, article_text=article_text)).text\n",
    "    article_text = article_text + \"\\n\\n\" + next_section"
   ]
  },
  {
   "cell_type": "code",
   "execution_count": 30,
   "metadata": {},
   "outputs": [
    {
     "name": "stdout",
     "output_type": "stream",
     "text": [
      "## The Rise of Intelligent Agents: Navigating the Present and Charting the Future\n",
      "\n",
      "The field of Artificial Intelligence (AI) has witnessed an explosive growth in recent years, with intelligent agents emerging as a pivotal area of focus. These autonomous entities, capable of perceiving their environment, learning from experience, and taking actions to achieve goals, hold immense promise for revolutionizing numerous aspects of our lives. This article delves into the current state of AI agents, explores their potential applications, and contemplates the challenges and opportunities that lie ahead.\n",
      "\n",
      "### The State of the Art: A Diverse Landscape of Intelligent Agents\n",
      "\n",
      "Currently, AI agents exhibit a wide spectrum of capabilities depending on their design and purpose. We see them powering various applications, including:\n",
      "\n",
      "* **Virtual Assistants:** From scheduling appointments to controlling smart home devices, AI assistants like Siri and Google Assistant leverage natural language processing and machine learning to provide personalized and efficient support.\n",
      "* **Recommendation Systems:** Platforms like Netflix and Amazon utilize intelligent agents to analyze user preferences and recommend products or content tailored to individual tastes, enhancing user experience and driving sales.\n",
      "* **Gaming and Robotics:** AI agents play a crucial role in creating challenging and engaging gaming experiences. They also power advanced robots capable of performing complex tasks in diverse environments, from manufacturing to healthcare. \n",
      "* **Autonomous Vehicles:** Self-driving cars represent a pinnacle of intelligent agent technology, utilizing a complex array of sensors and algorithms to navigate roads safely and efficiently.\n",
      "\n",
      "These examples highlight the versatility of AI agents, but they represent only a glimpse of their potential. As research progresses, we can expect even more sophisticated agents capable of handling complex tasks and exhibiting greater autonomy.\n",
      "\n",
      "### Future Potential: A World Augmented by Intelligent Agents\n",
      "\n",
      "The future of AI agents is brimming with exciting possibilities. Some potential applications include:\n",
      "\n",
      "* **Personalized Education:** AI tutors could adapt to individual learning styles and provide customized instruction, revolutionizing education and making it more accessible and effective.\n",
      "* **Advanced Healthcare:** Intelligent agents could assist in diagnosis, treatment planning, and even robotic surgery, leading to more accurate diagnoses and personalized care.\n",
      "* **Smart Cities:** AI could optimize traffic flow, manage energy consumption, and improve public safety, creating more efficient and sustainable urban environments.\n",
      "* **Scientific Discovery:** Intelligent agents could analyze vast datasets and run complex simulations, accelerating scientific discovery and innovation across various fields.\n",
      "\n",
      "### Challenges and Opportunities: Navigating the Path Forward\n",
      "\n",
      "While the potential of AI agents is vast, several challenges must be addressed:\n",
      "\n",
      "* **Ethical Considerations:** Ensuring fairness, transparency, and accountability in AI agent decision-making is crucial to prevent bias and discrimination.\n",
      "* **Safety and Security:** Robust safeguards need to be implemented to prevent malicious use of AI agents and ensure their safe operation.\n",
      "* **Explainability and Trust:** Developing methods to understand and interpret the reasoning behind AI agent actions is crucial for building trust and user acceptance.\n",
      "\n",
      "These challenges also present opportunities for further research and development. As we overcome these hurdles, AI agents are poised to become an integral part of our lives, augmenting human capabilities and transforming various sectors of society. \n",
      "\n",
      "### Conclusion: A Collaborative Future\n",
      "\n",
      "The journey of AI agents is just beginning. As researchers and developers, we have the responsibility to ensure that these powerful tools are used ethically and responsibly for the benefit of humanity. By embracing collaboration and open dialogue, we can navigate the challenges and unlock the immense potential of AI agents, paving the way for a future where humans and intelligent machines work together to create a better world.\n"
     ]
    }
   ],
   "source": [
    "final_article = article_text.replace(\"ENDOFSECTION\", \"\").strip()\n",
    "print(final_article)"
   ]
  }
 ],
 "metadata": {
  "kernelspec": {
   "display_name": "LLM",
   "language": "python",
   "name": "python3"
  },
  "language_info": {
   "codemirror_mode": {
    "name": "ipython",
    "version": 3
   },
   "file_extension": ".py",
   "mimetype": "text/x-python",
   "name": "python",
   "nbconvert_exporter": "python",
   "pygments_lexer": "ipython3",
   "version": "3.10.14"
  }
 },
 "nbformat": 4,
 "nbformat_minor": 2
}
